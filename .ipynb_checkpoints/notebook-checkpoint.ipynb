{
 "metadata": {
  "name": "",
  "signature": "sha256:63ca4be2aadccf480928c31bce92ebdd06ce7e80cd81f46db89246a6e60a0eaf"
 },
 "nbformat": 3,
 "nbformat_minor": 0,
 "worksheets": [
  {
   "cells": [
    {
     "cell_type": "code",
     "collapsed": false,
     "input": [
      "#encoding=utf8\n",
      "#the data is modeled using 2 classes: Page and Comment. Each page has a list of comments. For more details, see data_handler.py\n",
      "%matplotlib inline\n",
      "\n",
      "from data_handler import Page,Comment\n",
      "import os\n",
      "import pickle\n",
      "import matplotlib.pyplot as plt\n",
      "import numpy as np\n",
      "import pandas as pd\n",
      "import matplotlib as mpl\n",
      "import time\n",
      "\n",
      "#default ploting params\n",
      "pd.options.display.mpl_style = 'default'\n",
      "mpl.rcParams['font.family'] = 'sans-serif'\n",
      "\n",
      "\n",
      "def create_pages_comments_df():\n",
      "    pages = []\n",
      "    folder = 'data/'\n",
      "    for f in os.listdir(folder):\n",
      "        filePath = folder+f\n",
      "        with open(filePath, 'r') as f:\n",
      "            pages.append(pickle.load(f))\n",
      "    pages_df = pd.DataFrame({'url':[p.url for p in pages],'title':[p.title for p in pages],'subtitle':[p.subtitle for p in pages],\n",
      "                             'body':[p.body for p in pages],'author':[p.author for p in pages],'published_time':[p.published_time for p in pages],\n",
      "                             'category':[p.categories[0] for p in pages],'subcategories':[','.join(p.categories[1:]) for p in pages],'tags':[','.join(p.tags) for p in pages]})\n",
      "    \n",
      "    comments_df = pd.DataFrame({'url':[p.url for p in pages for c in p.comments],'author_location':[c.author_location for p in pages for c in p.comments],\n",
      "                               'published_time':[c.date for p in pages for c in p.comments],'title':[c.title for p in pages for c in p.comments],'body':[c.body for p in pages for c in p.comments],'score':[c.score for p in pages for c in p.comments]\n",
      "                               ,'position':[i for p in pages for i in range(len(p.comments))],'minus_position':[len(p.comments) - i for p in pages for i in range(len(p.comments))]})\n",
      "    return pages_df,comments_df\n",
      "\n",
      "pages_df,comments_df = create_pages_comments_df()"
     ],
     "language": "python",
     "metadata": {},
     "outputs": [],
     "prompt_number": 1
    },
    {
     "cell_type": "code",
     "collapsed": false,
     "input": [
      "#lets keep only the comments on pages with more than 30 comments\n",
      "comments_df_gb = comments_df.groupby('url').count()\n",
      "enough_comments_urls = set(comments_df_gb[comments_df_gb.body>=30].index.values)\n",
      "comments_df = comments_df[comments_df.url.apply(lambda x: x in enough_comments_urls)]\n",
      "pages_df = pages_df[pages_df.url.apply(lambda x: x in enough_comments_urls)]"
     ],
     "language": "python",
     "metadata": {},
     "outputs": [],
     "prompt_number": 2
    },
    {
     "cell_type": "code",
     "collapsed": false,
     "input": [
      "#find outliers\n",
      "scores = list(comments_df.score.values)\n",
      "scores.sort()\n",
      "print scores[:20]\n",
      "print scores[-20:]"
     ],
     "language": "python",
     "metadata": {},
     "outputs": [
      {
       "output_type": "stream",
       "stream": "stdout",
       "text": [
        "[-9916, -225, -218, -200, -186, -181, -178, -175, -172, -171, -168, -158, -158, -155, -151, -149, -148, -142, -141, -137]\n",
        "[422, 422, 422, 422, 422, 422, 422, 422, 422, 422, 422, 422, 422, 424, 427, 450, 489, 544, 5292, 8569]\n"
       ]
      }
     ],
     "prompt_number": 3
    },
    {
     "cell_type": "code",
     "collapsed": false,
     "input": [
      "comments_df = comments_df[(comments_df.score>-250)&(comments_df.score<550)]\n",
      "#lets normelaize the score on each page \n",
      "comments_df['score_abs'] = comments_df.score.apply(abs)\n",
      "comments_df_gb = comments_df.groupby('url')\n",
      "comments_df['score_norm'] = comments_df_gb.score.transform(lambda x: (x - x.mean()) / x.std())\n",
      "comments_df['score_abs_norm'] = comments_df_gb.score_abs.transform(lambda x: (x - x.mean()) / x.std())\n",
      "comments_df = comments_df.fillna(0)\n",
      "\n",
      "print time.strftime(\"%Y-%m-%d %H:%M:%S\",pages_df.published_time.min())\n",
      "print time.strftime(\"%Y-%m-%d %H:%M:%S\",pages_df.published_time.max())\n",
      "print 'total pages:',len(pages_df)\n",
      "print 'total comments:',len(comments_df)\n",
      "print\n",
      "\n",
      "ax = comments_df.score_abs.hist(bins=200)\n",
      "ax.spines[\"top\"].set_visible(False)  \n",
      "ax.spines[\"bottom\"].set_visible(False)  \n",
      "ax.spines[\"right\"].set_visible(False)  \n",
      "ax.spines[\"left\"].set_visible(False)\n",
      "ax.set_xlabel('Likes/Dislikes',fontsize=14)\n",
      "ax.set_ylabel('')\n",
      "ax.yaxis.grid(False)\n",
      "ax.xaxis.grid(False)\n",
      "ax.set_axis_bgcolor('w')\n",
      "ax.set_xlim([0,60])\n",
      "plt.savefig('figures/likes.png', bbox_inches='tight',dpi=1200)"
     ],
     "language": "python",
     "metadata": {},
     "outputs": [
      {
       "output_type": "stream",
       "stream": "stdout",
       "text": [
        "2015-01-09 14:03:00\n",
        "2015-03-15 09:26:00\n",
        "total pages: 2686\n",
        "total comments: 246932\n",
        "\n"
       ]
      },
      {
       "metadata": {},
       "output_type": "display_data",
       "png": "[encoded data removed]",
       "text": [
        "<matplotlib.figure.Figure at 0x230c3f60>"
       ]
      }
     ],
     "prompt_number": 4
    },
    {
     "cell_type": "code",
     "collapsed": false,
     "input": [
      "#page with the most comments\n",
      "comments_df_gb = comments_df.groupby('url').count()\n",
      "print comments_df_gb[comments_df_gb.body==comments_df_gb.body.max()].index.values[0]"
     ],
     "language": "python",
     "metadata": {},
     "outputs": [
      {
       "output_type": "stream",
       "stream": "stdout",
       "text": [
        "http://www.ynet.co.il/articles/0,7340,L-4629984,00.html\n"
       ]
      }
     ],
     "prompt_number": 5
    },
    {
     "cell_type": "code",
     "collapsed": false,
     "input": [
      "print pages_df.groupby('category')['category'].count()\n",
      "pages_df.groupby('category')['category'].count().sort(inplace=False,ascending=False).plot(kind='bar')"
     ],
     "language": "python",
     "metadata": {},
     "outputs": [
      {
       "output_type": "stream",
       "stream": "stdout",
       "text": [
        "category\n",
        "\u05d0\u05d5\u05db\u05dc              38\n",
        "\u05d0\u05e1\u05d8\u05e8\u05d5\u05dc\u05d5\u05d2\u05d9\u05d4         4\n",
        "\u05d1\u05e8\u05d9\u05d0\u05d5\u05ea           212\n",
        "\u05d3\u05e2\u05d5\u05ea              53\n",
        "\u05d7\u05d3\u05e9\u05d5\u05ea           1115\n",
        "\u05d9\u05d4\u05d3\u05d5\u05ea             87\n",
        "\u05d9\u05d7\u05e1\u05d9\u05dd             61\n",
        "\u05db\u05dc\u05db\u05dc\u05d4            411\n",
        "\u05de\u05d7\u05e9\u05d1\u05d9\u05dd            78\n",
        "\u05de\u05e2\u05d5\u05e8\u05d1\u05d5\u05ea            6\n",
        "\u05e1\u05e4\u05d5\u05e8\u05d8            328\n",
        "\u05e8\u05db\u05d1               78\n",
        "\u05ea\u05d9\u05d9\u05e8\u05d5\u05ea            49\n",
        "\u05ea\u05e8\u05d1\u05d5\u05ea \u05d5\u05d1\u05d9\u05d3\u05d5\u05e8     166\n",
        "Name: category, dtype: int64\n"
       ]
      },
      {
       "metadata": {},
       "output_type": "pyout",
       "prompt_number": 6,
       "text": [
        "<matplotlib.axes._subplots.AxesSubplot at 0x23101390>"
       ]
      },
      {
       "metadata": {},
       "output_type": "display_data",
       "png": "[encoded data removed]",
       "text": [
        "<matplotlib.figure.Figure at 0x230e8e10>"
       ]
      }
     ],
     "prompt_number": 6
    },
    {
     "cell_type": "code",
     "collapsed": false,
     "input": [
      "#we will use only news articles\n",
      "urls = set(pages_df[(pages_df.category==u'\u05d7\u05d3\u05e9\u05d5\u05ea')].url.unique())\n",
      "comments_df = comments_df[comments_df.url.apply(lambda x: x in urls)]\n",
      "print comments_df.count()"
     ],
     "language": "python",
     "metadata": {},
     "outputs": [
      {
       "output_type": "stream",
       "stream": "stdout",
       "text": [
        "author_location    118248\n",
        "body               118248\n",
        "minus_position     118248\n",
        "position           118248\n",
        "published_time     118248\n",
        "score              118248\n",
        "title              118248\n",
        "url                118248\n",
        "score_abs          118248\n",
        "score_norm         118248\n",
        "score_abs_norm     118248\n",
        "dtype: int64\n"
       ]
      }
     ],
     "prompt_number": 7
    },
    {
     "cell_type": "code",
     "collapsed": false,
     "input": [
      "print comments_df[comments_df.score==comments_df.score.max()].score.values[0]\n",
      "print comments_df[comments_df.score==comments_df.score.max()].url.values[0]\n",
      "print comments_df[comments_df.score==comments_df.score.max()].author_location.values[0]\n",
      "print comments_df[comments_df.score==comments_df.score.max()].title.values[0]\n",
      "print comments_df[comments_df.score==comments_df.score.max()].body.values[0]\n",
      "print '------------------------------------------'\n",
      "print comments_df[comments_df.score==comments_df.score.min()].score.values[0]\n",
      "print comments_df[comments_df.score==comments_df.score.min()].url.values[0]\n",
      "print comments_df[comments_df.score==comments_df.score.min()].author_location.values[0]\n",
      "print comments_df[comments_df.score==comments_df.score.min()].title.values[0]\n",
      "print comments_df[comments_df.score==comments_df.score.min()].body.values[0]\n",
      "print '------------------------------------------'"
     ],
     "language": "python",
     "metadata": {},
     "outputs": [
      {
       "output_type": "stream",
       "stream": "stdout",
       "text": [
        "544\n",
        "http://www.ynet.co.il/articles/0,7340,L-4616335,00.html\n",
        "\u05de\u05d4\u05d6\u05d4\u05de\u05e9\u05e0\u05d4,\u00a0\u05de\u05e2\u05d1\u05e8 \u05dc\u05d4\u05e8\u00a0\u200f\n",
        "\u05db\u05de\u05d5 \u05d4\u05de\u05db\u05ea\u05d1 \u05dc\u05d1\u05d9\u05d8\u05d5\u05d7 \u05dc\u05d0\u05d5\u05de\u05d9....\n",
        "\u05dc\u05db\u05d1\u05d5\u05d3: \u05de\u05e0\u05d4\u05dc \u05d4\u05d1\u05d9\u05d8\u05d5\u05d7 \u05d4\u05dc\u05d0\u05d5\u05de\u05d9\n",
        "\n",
        "\u05e9\u05dc\u05d5\u05dd \u05e8\u05d1.\n",
        "\u05d0\u05e0\u05d9 \u05de\u05e9\u05d4 \u05db\u05d4\u05df,\n",
        "\u05de\u05ea\u05d2\u05d5\u05e8\u05e8 \u05d1\u05e8\u05d7\u05d5\u05d1 \u05d4\u05ea\u05d0\u05e0\u05d4 27 \u05d5\u05de\u05e6\u05d9\u05d9\u05df \u05d1\u05d6\u05d0\u05ea \u05d0\u05ea \u05d4\u05e2\u05d5\u05d1\u05d3\u05d5\u05ea \u05d4\u05d1\u05d0\u05d5\u05ea: \n",
        "\n",
        "\u05dc\u05e4\u05e0\u05d9 \u05d4\u05e8\u05d1\u05d4 \u05e9\u05e0\u05d9\u05dd \u05d4\u05ea\u05d7\u05ea\u05e0\u05ea\u05d9 \u05de\u05ea\u05d5\u05da \u05d0\u05d4\u05d1\u05d4 \u05e2\u05dd \u05d0\u05dc\u05de\u05e0\u05d4 \u05e9\u05d4\u05d9\u05d9\u05ea\u05d4 \u05dc\u05d4 \u05d9\u05dc\u05d3\u05d4 \u05d1\u05ea 18. \u05d0\u05d7\u05e8\u05d9 \u05d4\u05d7\u05ea\u05d5\u05e0\u05d4, \u05d0\u05d1\u05d9 \u05d1\u05d0 \u05dc\u05d1\u05e7\u05e8 \u05db\u05de\u05d4 \u05e4\u05e2\u05de\u05d9\u05dd, \u05d5\u05e4\u05ea\u05d0\u05d5\u05dd \u05d4\u05ea\u05d0\u05d4\u05d1 \u05d1\u05d1\u05ea\u05d9 \u05d4\u05d7\u05d5\u05e8\u05d2\u05ea, \u05d5\u05d4\u05ea\u05d7\u05ea\u05df \u05d0\u05ea\u05d4 \u05dc\u05dc\u05d0 \u05d4\u05e1\u05db\u05de\u05ea\u05d9. \n",
        "\n",
        "\u05db\u05ea\u05d5\u05e6\u05d0\u05d4 \u05de\u05db\u05da, \u05d4\u05d1\u05ea \u05d4\u05d7\u05d5\u05e8\u05d2\u05ea \u05e9\u05dc\u05d9 \u05d4\u05e4\u05db\u05d4 \u05dc\u05d0\u05de\u05d9 \u05d4\u05d7\u05d5\u05e8\u05d2\u05ea, \u05d5\u05d0\u05d1\u05d9 \u05dc\u05d7\u05ea\u05df \u05e9\u05dc\u05d9. \u05d4\u05d0\u05d9\u05e9\u05d4 \u05e9\u05dc \u05d0\u05d1\u05d9 (\u05d6\"\u05d0 \u05d1\u05ea\u05d9 \u05d4\u05d7\u05d5\u05e8\u05d2\u05ea) \u05e9\u05d1\u05d5 \u05d6\u05de\u05e0\u05d9\u05ea \u05d4\u05d9\u05d0 \u05d2\u05dd \u05d0\u05de\u05d9 \u05d4\u05d7\u05d5\u05e8\u05d2\u05ea, \u05d9\u05dc\u05d3\u05d4 \u05d1\u05df \u05e9\u05d4\u05d5\u05d0 \u05e0\u05db\u05d3\u05d9, \u05de\u05e4\u05e0\u05d9 \u05e9\u05d0\u05e0\u05d9 \u05d1\u05e2\u05dc\u05d4 \u05e9\u05dc \u05d0\u05de\u05d4 \u05e9\u05dc \u05d1\u05ea\u05d9 \u05d4\u05d7\u05d5\u05e8\u05d2\u05ea. \u05d4\u05d1\u05df \u05d4\u05d6\u05d4 \u05d4\u05d5\u05d0 \u05d2\u05dd \u05d0\u05d7\u05d9, \u05db\u05d1\u05e0\u05d5 \u05e9\u05dc \u05d0\u05d1\u05d9. \n",
        "\n",
        "\u05d1\u05d5 \u05d6\u05de\u05e0\u05d9\u05ea, \u05d0\u05e9\u05ea\u05d9 \u05d4\u05e4\u05db\u05d4 \u05dc\u05e1\u05d1\u05ea\u05d0, \u05de\u05e4\u05e0\u05d9 \u05e9\u05d4\u05d9\u05d0 \u05d4\u05d0\u05de\u05d0 \u05e9\u05dc \u05d0\u05e9\u05ea \u05d0\u05d1\u05d9, \u05d5\u05db\u05da \u05d9\u05d5\u05e6\u05d0 \u05e9\u05d0\u05e0\u05d9 \u05e0\u05db\u05d3 \u05e9\u05dc \u05d0\u05e9\u05ea\u05d9. \u05d6\u05de\u05df \u05e7\u05e6\u05e8 \u05d0\u05d7\u05e8\u05d9 \u05d6\u05d4, \u05d0\u05e9\u05ea\u05d9 \u05d9\u05dc\u05d3\u05d4 \u05d1\u05df, \u05e9\u05d4\u05e4\u05da \u05dc\u05d4\u05d9\u05d5\u05ea \u05d2\u05d9\u05e1 \u05e9\u05dc \u05d0\u05d1\u05d9, \u05d0\u05d7 \u05d7\u05d5\u05e8\u05d2 \u05e9\u05dc \u05d0\u05e9\u05ea \u05d0\u05d1\u05d9 \u05d5\u05db\u05da \u05d2\u05dd \u05d3\u05d5\u05d3\u05d9. \u05d1\u05e0\u05d9 \u05d4\u05d5\u05d0 \u05d2\u05dd \u05d0\u05d7\u05d9\u05d4 \u05e9\u05dc \u05d0\u05de\u05d9 \u05d4\u05d7\u05d5\u05e8\u05d2\u05ea, \u05d5\u05d3\u05e8\u05da \u05d0\u05de\u05d9 \u05d4\u05d7\u05d5\u05e8\u05d2\u05ea \u05d4\u05e4\u05db\u05d4 \u05d0\u05e9\u05ea\u05d9 \u05dc\u05e1\u05d1\u05ea\u05d0 \u05d5\u05d0\u05e0\u05d9 \u05d4\u05e4\u05db\u05ea\u05d9 \u05dc\u05e1\u05d1\u05d0 \u05e9\u05dc \u05e2\u05e6\u05de\u05d9. \n",
        "\n",
        "\u05dc\u05d0\u05d5\u05e8 \u05d4\u05d3\u05d1\u05e8\u05d9\u05dd \u05d4\u05e0\"\u05dc, \u05d0\u05e0\u05d9 \u05de\u05d1\u05e7\u05e9 \u05dc\u05d3\u05e2\u05ea: \u05d4\u05d0\u05dd \u05d1\u05e0\u05d9, \u05e9\u05d4\u05d5\u05d0 \u05d2\u05dd \u05d3\u05d5\u05d3\u05d9 \u05d5\u05d2\u05dd \u05d2\u05d9\u05e1 \u05e9\u05dc \u05d0\u05d1\u05d0, \u05d5\u05d0\u05d7\u05d9\u05d4 \u05e9\u05dc \u05d0\u05de\u05d9 \u05d4\u05d7\u05d5\u05e8\u05d2\u05ea, \u05d6\u05db\u05d0\u05d9 \u05dc\u05e7\u05d1\u05dc \u05e7\u05e6\u05d1\u05ea \u05d9\u05dc\u05d3\u05d9\u05dd?\n",
        "\n",
        "\u05d1\u05db\u05d1\u05d5\u05d3 \u05e8\u05d1,\n",
        "\n",
        "\u05de\u05e9\u05d4 \u05db\u05d4\u05df\n",
        "\n",
        "------------------------------------------\n",
        "-225\n",
        "http://www.ynet.co.il/articles/0,7340,L-4633138,00.html\n",
        "\u05d1\u05e0\u05d9 \u05d1\u05d9\u05d9\u05e0\u05d8,\u00a0\u05d7\u05d1\u05e8\u05d5\u05df\u00a0\u200f\n",
        "\u05d0\u05e4\u05d9\u05dc\u05d5 \u05d4\u05de\u05d3\u05e2\u05e0\u05d9\u05dd \u05db\u05d1\u05e8 \u05de\u05e7\u05d1\u05dc\u05d9\u05dd \u05d0\u05ea \u05d6\u05d4 \u05e9\u05d0\u05dc\u05d5\u05e7\u05d9\u05dd \u05d9\u05e6\u05e8 \u05d0\u05ea \u05db\u05dc \u05d4\u05de\u05e1\u05d4 \u05d1\u05d9\u05e7\u05d5\u05dd\n",
        "\u05d5\u05d0\u05dc \u05ea\u05e9\u05db\u05d7\u05d5 \u05e9\u05db\u05dc \u05de\u05d9 \u05e9\u05dc\u05d0 \u05e1\u05d5\u05d2\u05d3 \u05dc\u05d0\u05dc\u05d5\u05e7\u05d9\u05dd \u05d9\u05e9\u05dc\u05dd \u05e2\u05dc \u05db\u05da \u05d1\u05d0\u05d7\u05e8\u05d9\u05ea \u05d4\u05d9\u05de\u05d9\u05dd\n",
        "------------------------------------------\n"
       ]
      }
     ],
     "prompt_number": 8
    },
    {
     "cell_type": "code",
     "collapsed": false,
     "input": [
      "print comments_df[comments_df.score_norm==comments_df.score_norm.max()].score_norm.values[0]\n",
      "print comments_df[comments_df.score_norm==comments_df.score_norm.max()].url.values[0]\n",
      "print comments_df[comments_df.score_norm==comments_df.score_norm.max()].author_location.values[0]\n",
      "print comments_df[comments_df.score_norm==comments_df.score_norm.max()].title.values[0]\n",
      "print comments_df[comments_df.score_norm==comments_df.score_norm.max()].body.values[0]\n",
      "print '------------------------------------------'\n",
      "print comments_df[comments_df.score_norm==comments_df.score_norm.min()].score_norm.values[0]\n",
      "print comments_df[comments_df.score_norm==comments_df.score_norm.min()].url.values[0]\n",
      "print comments_df[comments_df.score_norm==comments_df.score_norm.min()].author_location.values[0]\n",
      "print comments_df[comments_df.score_norm==comments_df.score_norm.min()].title.values[0]\n",
      "print comments_df[comments_df.score_norm==comments_df.score_norm.min()].body.values[0]\n",
      "print '------------------------------------------'\n",
      "print\n",
      "print\n",
      "print comments_df[comments_df.score_abs_norm==comments_df.score_abs_norm.max()].score_abs_norm.values[0]\n",
      "print comments_df[comments_df.score_abs_norm==comments_df.score_abs_norm.max()].url.values[0]\n",
      "print comments_df[comments_df.score_abs_norm==comments_df.score_abs_norm.max()].author_location.values[0]\n",
      "print comments_df[comments_df.score_abs_norm==comments_df.score_abs_norm.max()].title.values[0]\n",
      "print comments_df[comments_df.score_abs_norm==comments_df.score_abs_norm.max()].body.values[0]\n",
      "print '------------------------------------------'\n",
      "print comments_df[comments_df.score_abs_norm==comments_df.score_abs_norm.min()].score_abs_norm.values[0]\n",
      "print comments_df[comments_df.score_abs_norm==comments_df.score_abs_norm.min()].url.values[0]\n",
      "print comments_df[comments_df.score_abs_norm==comments_df.score_abs_norm.min()].author_location.values[0]\n",
      "print comments_df[comments_df.score_abs_norm==comments_df.score_abs_norm.min()].title.values[0]\n",
      "print comments_df[comments_df.score_abs_norm==comments_df.score_abs_norm.min()].body.values[0]"
     ],
     "language": "python",
     "metadata": {},
     "outputs": [
      {
       "output_type": "stream",
       "stream": "stdout",
       "text": [
        "12.1073200994\n",
        "http://www.ynet.co.il/articles/0,7340,L-4625349,00.html\n",
        "\u05d3\u05d9\u05de\u05d4\u00a0\u200f\n",
        "\u05d4\u05e9\u05dc\u05d8\u05d9\u05dd \u05d4\u05d0\u05dc\u05d4\n",
        "\u05d2\u05d5\u05e8\u05de\u05d9\u05dd \u05dc\u05d4\u05d1\u05d9\u05df \u05e9\u05d0\u05d9\u05df \u05dc\u05de\u05d7\u05e0\u05d4 \u05e6\u05d9\u05d5\u05e0\u05d9 \u05ea\u05db\u05e0\u05d9\u05ea \u05de\u05e1\u05d5\u05d3\u05e8\u05ea. \u05db\u05e9\u05d0\u05ea\u05d4 \u05de\u05ea\u05d7\u05d9\u05dc \u05dc\u05d4\u05d0\u05e9\u05d9\u05dd \u05de\u05d9\u05e9\u05d4\u05d5 \u05d0\u05d7\u05e8 \u05d1\u05de\u05e7\u05d5\u05dd \u05dc\u05d4\u05e6\u05d9\u05e2 \u05d0\u05dc\u05d8\u05e8\u05e0\u05d8\u05d9\u05d1\u05d4 \u05e8\u05d0\u05d5\u05d9\u05d4 - \u05db\u05e9\u05ea\u05d2\u05d9\u05e2 \u05dc\u05e9\u05dc\u05d8\u05d5\u05df \u05ea\u05ea\u05e0\u05d4\u05d2 \u05d1\u05d3\u05d9\u05d5\u05e7 \u05d0\u05d5\u05ea\u05d5 \u05d3\u05d1\u05e8. \n",
        "------------------------------------------\n",
        "-8.76048587245\n",
        "http://www.ynet.co.il/articles/0,7340,L-4615625,00.html\n",
        "\u05de\u05d7\u05de\u05d5\u05d3,\u00a0\u05d0\u05d5\u05dd \u05d0\u05dc \u05e4\u05d7\u05dd\u00a0\u200f\n",
        "\u05de\u05d4 \u05e2\u05dd \u05d0\u05dc\u05d4 \u05e9\u05d8\u05d1\u05d7\u05d5 \u05d1\u05db1000 \u05d9\u05dc\u05d3\u05d9\u05dd \u05e2\u05d6\u05d0\u05ea\u05d9\u05dd ?\n",
        "\n",
        "------------------------------------------\n",
        "\n",
        "\n",
        "12.6122859203\n",
        "http://www.ynet.co.il/articles/0,7340,L-4625349,00.html\n",
        "\u05d3\u05d9\u05de\u05d4\u00a0\u200f\n",
        "\u05d4\u05e9\u05dc\u05d8\u05d9\u05dd \u05d4\u05d0\u05dc\u05d4\n",
        "\u05d2\u05d5\u05e8\u05de\u05d9\u05dd \u05dc\u05d4\u05d1\u05d9\u05df \u05e9\u05d0\u05d9\u05df \u05dc\u05de\u05d7\u05e0\u05d4 \u05e6\u05d9\u05d5\u05e0\u05d9 \u05ea\u05db\u05e0\u05d9\u05ea \u05de\u05e1\u05d5\u05d3\u05e8\u05ea. \u05db\u05e9\u05d0\u05ea\u05d4 \u05de\u05ea\u05d7\u05d9\u05dc \u05dc\u05d4\u05d0\u05e9\u05d9\u05dd \u05de\u05d9\u05e9\u05d4\u05d5 \u05d0\u05d7\u05e8 \u05d1\u05de\u05e7\u05d5\u05dd \u05dc\u05d4\u05e6\u05d9\u05e2 \u05d0\u05dc\u05d8\u05e8\u05e0\u05d8\u05d9\u05d1\u05d4 \u05e8\u05d0\u05d5\u05d9\u05d4 - \u05db\u05e9\u05ea\u05d2\u05d9\u05e2 \u05dc\u05e9\u05dc\u05d8\u05d5\u05df \u05ea\u05ea\u05e0\u05d4\u05d2 \u05d1\u05d3\u05d9\u05d5\u05e7 \u05d0\u05d5\u05ea\u05d5 \u05d3\u05d1\u05e8. \n",
        "------------------------------------------\n",
        "-2.81218581812\n",
        "http://www.ynet.co.il/articles/0,7340,L-4614174,00.html\n",
        "\u05d7\u05d1\u05e8 \u05de\u05e8\u05db\u05d6 \u05d4\u05e2\u05d1\u05d5\u05d3\u05d4\u00a0\u200f"
       ]
      },
      {
       "output_type": "stream",
       "stream": "stdout",
       "text": [
        "\n",
        "\u05e2\u05dd \u05db\u05dc \u05d4\u05db\u05d1\u05d5\u05d3 \u05dc\u05de\u05d9\u05e8\u05d1\n",
        "\u05e9\u05dc\u05d9 \u05d4\u05d9\u05d0 \u05d4\u05d2\u05d1' \u05d4\u05e8\u05d0\u05e9\u05d5\u05e0\u05d4 \u05e9\u05dc \u05d4\u05e2\u05d1\u05d5\u05d3\u05d4.\n"
       ]
      }
     ],
     "prompt_number": 9
    },
    {
     "cell_type": "code",
     "collapsed": false,
     "input": [
      "import numpy as np\n",
      "\n",
      "comments_df_gb_position = comments_df.groupby('minus_position')\n",
      "stds = comments_df_gb_position.score_abs.std()/comments_df_gb_position.score_abs.count().apply(lambda x: x**0.5)\n",
      "means = comments_df_gb_position.score_abs.mean()\n",
      "means = pd.rolling_mean(means,5)\n",
      "stds = pd.rolling_mean(stds,5)\n",
      "upper_bound = means.values+(stds.values*1.96)\n",
      "lower_bound = means.values+(stds.values*-1.96)\n",
      "ax = means.plot(color='#3182bd')\n",
      "ax.set_xlim([5,200])\n",
      "ax.set_ylim([0,20])\n",
      "ax.fill_between(stds.index, lower_bound, upper_bound, facecolor='#bdd7e7', alpha=0.4)\n",
      "ax.spines[\"top\"].set_visible(False)  \n",
      "ax.spines[\"bottom\"].set_visible(False)  \n",
      "ax.spines[\"right\"].set_visible(False)  \n",
      "ax.spines[\"left\"].set_visible(False)\n",
      "ax.set_xlabel('Comment Position',fontsize=12)\n",
      "ax.set_ylabel('Average Likes/Dislikes',fontsize=12)\n",
      "ax.yaxis.grid(False)\n",
      "ax.xaxis.grid(False)\n",
      "ax.set_axis_bgcolor('w')\n",
      "scores_abs_mean = comments_df.score_abs.mean()\n",
      "plt.plot([5, 200], [scores_abs_mean, scores_abs_mean], color='#bd0026', linestyle='--', linewidth=0.5)\n",
      "ax.annotate('all comments average',xy=(202, scores_abs_mean-0.2),xycoords='data', color='#bd0026',annotation_clip=False)\n",
      "plt.savefig('figures/position.png', bbox_inches='tight',dpi=1200)"
     ],
     "language": "python",
     "metadata": {},
     "outputs": [
      {
       "metadata": {},
       "output_type": "display_data",
       "png": "[encoded data removed]",
       "text": [
        "<matplotlib.figure.Figure at 0xef44e10>"
       ]
      }
     ],
     "prompt_number": 10
    },
    {
     "cell_type": "code",
     "collapsed": false,
     "input": [
      "import nlp.hebtokenizer as tokenizer\n",
      "\n",
      "#define a tokenizer using Yoav Goldbergs' tokenizer http://www.cs.bgu.ac.il/~yoavg/software/hebtokenizer/ and hspell/hunspell stemmer\n",
      "#skip non hebrew words (e.g, english,punctuations,etc.)\n",
      "def only_heb_tokenizer(sent):\n",
      "    return [w for t,w in tokenizer.tokenize(sent) if t=='HEB' and len(w)>1]\n",
      "\n",
      "def no_junk_tokenizer(sent):\n",
      "    return [w for t,w in tokenizer.tokenize(sent) if t!='JUNK']\n",
      "\n",
      "comments_df['words_count_title'] = comments_df.title.apply(lambda x: len(only_heb_tokenizer(x)))\n",
      "comments_df['words_count_body'] = comments_df.body.apply(lambda x: len(only_heb_tokenizer(x)))"
     ],
     "language": "python",
     "metadata": {},
     "outputs": [],
     "prompt_number": 11
    },
    {
     "cell_type": "code",
     "collapsed": false,
     "input": [
      "comments_df_gb_words_count_title = comments_df.groupby('words_count_title')\n",
      "stds = comments_df_gb_words_count_title.score_abs.std()/comments_df_gb_words_count_title.score_abs.count().apply(lambda x: x**0.5)\n",
      "means = comments_df_gb_words_count_title.score_abs.mean()\n",
      "means = pd.rolling_mean(means,3)\n",
      "stds = pd.rolling_mean(stds,3)\n",
      "upper_bound = means.values+(stds.values*1.96)\n",
      "lower_bound = means.values+(stds.values*-1.96)\n",
      "\n",
      "ax = means.plot(color='#3182bd')\n",
      "ax.set_xlim([2,16])\n",
      "ax.set_ylim([4,15])\n",
      "ax.fill_between(stds.index, lower_bound, upper_bound, facecolor='#bdd7e7', alpha=0.4)\n",
      "ax.spines[\"top\"].set_visible(False)  \n",
      "ax.spines[\"bottom\"].set_visible(False)  \n",
      "ax.spines[\"right\"].set_visible(False)  \n",
      "ax.spines[\"left\"].set_visible(False)\n",
      "ax.set_xlabel('Number of Words in Title',fontsize=12)\n",
      "ax.set_ylabel('Average Likes/Dislikes',fontsize=12)\n",
      "ax.yaxis.grid(False)\n",
      "ax.xaxis.grid(False)\n",
      "ax.set_axis_bgcolor('w')\n",
      "scores_abs_mean = comments_df.score_abs.mean()\n",
      "plt.plot([2, 16], [scores_abs_mean, scores_abs_mean], color='#bd0026', linestyle='--', linewidth=0.5)\n",
      "ax.annotate('all comments average',xy=(16.15, scores_abs_mean-0.2),xycoords='data', color='#bd0026',annotation_clip=False)\n",
      "plt.savefig('figures/wordsTitle.png', bbox_inches='tight',dpi=1200)"
     ],
     "language": "python",
     "metadata": {},
     "outputs": [
      {
       "metadata": {},
       "output_type": "display_data",
       "png": "[encoded data removed]",
       "text": [
        "<matplotlib.figure.Figure at 0x19500ef0>"
       ]
      }
     ],
     "prompt_number": 16
    },
    {
     "cell_type": "code",
     "collapsed": false,
     "input": [
      "comments_df_gb_words_count_body = comments_df.groupby('words_count_body')\n",
      "stds = comments_df_gb_words_count_body.score_abs.std()/comments_df_gb_words_count_body.score_abs.count().apply(lambda x: x**0.5)\n",
      "means = comments_df_gb_words_count_body.score_abs.mean()\n",
      "means = pd.rolling_mean(means,5)\n",
      "stds = pd.rolling_mean(stds,5)\n",
      "upper_bound = means.values+(stds.values*1.96)\n",
      "lower_bound = means.values+(stds.values*-1.96)\n",
      "\n",
      "ax = means.plot(color='#3182bd')\n",
      "ax.set_xlim([5,130])\n",
      "ax.set_ylim([0,30])\n",
      "ax.fill_between(stds.index, lower_bound, upper_bound, facecolor='#bdd7e7', alpha=0.4)\n",
      "ax.spines[\"top\"].set_visible(False)  \n",
      "ax.spines[\"bottom\"].set_visible(False)  \n",
      "ax.spines[\"right\"].set_visible(False)  \n",
      "ax.spines[\"left\"].set_visible(False)\n",
      "ax.set_xlabel('Number of Words in Body',fontsize=12)\n",
      "ax.set_ylabel('Average Likes/Dislikes',fontsize=12)\n",
      "ax.yaxis.grid(False)\n",
      "ax.xaxis.grid(False)\n",
      "ax.set_axis_bgcolor('w')\n",
      "scores_abs_mean = comments_df.score_abs.mean()\n",
      "plt.plot([5, 130], [scores_abs_mean, scores_abs_mean], color='#bd0026', linestyle='--', linewidth=0.5)\n",
      "ax.annotate('all comments average',xy=(132, scores_abs_mean-0.2),xycoords='data', color='#bd0026',annotation_clip=False)\n",
      "plt.savefig('figures/wordsBody.png', bbox_inches='tight',dpi=1200)"
     ],
     "language": "python",
     "metadata": {},
     "outputs": [
      {
       "metadata": {},
       "output_type": "display_data",
       "png": "[encoded data removed]",
       "text": [
        "<matplotlib.figure.Figure at 0xb94ea58>"
       ]
      }
     ],
     "prompt_number": 13
    },
    {
     "cell_type": "code",
     "collapsed": false,
     "input": [
      "from collections import defaultdict\n",
      "\n",
      "token_score_plus_count = defaultdict(float)\n",
      "token_score_minus_count = defaultdict(float)\n",
      "token_freq_count = defaultdict(int)\n",
      "\n",
      "for title,body,score in zip(comments_df.title,comments_df.body,comments_df.score):\n",
      "    tokens = set(only_heb_tokenizer(title)+only_heb_tokenizer(body))\n",
      "    for t in tokens:\n",
      "        if score>0:\n",
      "            token_score_plus_count[t]+=score\n",
      "        if score<0:\n",
      "            token_score_minus_count[t]+=score\n",
      "        token_freq_count[t]+=1\n",
      "\n",
      "avg_scores = []\n",
      "for token,freq in token_freq_count.iteritems():\n",
      "    if freq>=400:\n",
      "        avg_scores.append(((token_score_plus_count[token]-token_score_minus_count[token])*1.0/token_freq_count[token],token))\n",
      "avg_scores.sort(reverse=True)\n",
      "\n",
      "eng = ['Regev','Miri','Sarah','housing','Likud','Hamas','I will vote','bottles','the Likud','hundreds','the regime','Netanyahu','Muslims']\n",
      "y_plus = [token_score_plus_count[token]*1.0/token_freq_count[token] for _,token in avg_scores[:len(eng)]]\n",
      "y_minus = [token_score_minus_count[token]*1.0/token_freq_count[token] for _,token in avg_scores[:len(eng)]]\n",
      "plt.barh(range(len(eng)),y_plus,color='#3182bd',alpha=0.5,align='center')\n",
      "plt.barh(range(len(eng)),y_minus,color='#f46d43',alpha=0.5,align='center')\n",
      "plt.yticks(range(len(eng)), eng)\n",
      "ax = plt.gca()\n",
      "ax.xaxis.grid(False)\n",
      "ax.yaxis.grid(False)\n",
      "ax.set_axis_bgcolor('w')\n",
      "ax.spines[\"top\"].set_visible(False)  \n",
      "ax.spines[\"bottom\"].set_visible(False)  \n",
      "ax.spines[\"right\"].set_visible(False)  \n",
      "ax.spines[\"left\"].set_visible(False)\n",
      "ax.set_xlim([-2,25])\n",
      "\n",
      "plus_mean = comments_df[comments_df.score>0].score.sum()/len(comments_df)\n",
      "minus_mean = comments_df[comments_df.score<0].score.sum()/len(comments_df)\n",
      "plt.plot([plus_mean, plus_mean], [-0.5, 12.6], color='#3182bd', linestyle='--', linewidth=1.2)\n",
      "plt.plot([minus_mean, minus_mean], [-0.5, 12.6], color='#bd0026', linestyle='--', linewidth=2)"
     ],
     "language": "python",
     "metadata": {},
     "outputs": [
      {
       "metadata": {},
       "output_type": "pyout",
       "prompt_number": 100,
       "text": [
        "[<matplotlib.lines.Line2D at 0x197dadd8>]"
       ]
      },
      {
       "metadata": {},
       "output_type": "display_data",
       "png": "[encoded data removed]",
       "text": [
        "<matplotlib.figure.Figure at 0x197daf28>"
       ]
      }
     ],
     "prompt_number": 100
    },
    {
     "cell_type": "code",
     "collapsed": false,
     "input": [
      "from scipy.stats import ttest_ind\n",
      "\n",
      "print 'has body'\n",
      "comments_df['has_body']=comments_df.body.apply(lambda x: x!='')\n",
      "print comments_df[comments_df.has_body==True].score_abs_norm.mean()-comments_df[comments_df.has_body==False].score_abs_norm.mean()\n",
      "t,p = ttest_ind(comments_df[comments_df.has_body==True].score_abs_norm, comments_df[comments_df.has_body==False].score_abs_norm)\n",
      "print t,p\n",
      "print \n",
      "\n",
      "print 'has exclamantion mark in title'\n",
      "comments_df['has_exclamation_mark']=comments_df.title.apply(lambda x: '!' in x)\n",
      "print comments_df[comments_df.has_exclamation_mark==True].score_abs_norm.mean()-comments_df[comments_df.has_exclamation_mark==False].score_abs_norm.mean()\n",
      "t,p = ttest_ind(comments_df[comments_df.has_exclamation_mark==True].score_abs_norm, comments_df[comments_df.has_exclamation_mark==False].score_abs_norm)\n",
      "print t,p\n",
      "print \n",
      "\n",
      "print 'has question mark in title'\n",
      "comments_df['has_question_mark']=comments_df.title.apply(lambda x: '?' in x)\n",
      "print comments_df[comments_df.has_question_mark==True].score_abs_norm.mean()-comments_df[comments_df.has_question_mark==False].score_abs_norm.mean()\n",
      "t,p = ttest_ind(comments_df[comments_df.has_question_mark==True].score_abs_norm, comments_df[comments_df.has_question_mark==False].score_abs_norm)\n",
      "print t,p\n",
      "print \n",
      "\n",
      "print 'does not have hh in title'\n",
      "comments_df['has_hh']=comments_df.title.apply(lambda x: u'\u05d7\u05d7' in x)\n",
      "print comments_df[comments_df.has_hh==False].score_abs_norm.mean()-comments_df[comments_df.has_hh==True].score_abs_norm.mean()\n",
      "t,p = ttest_ind(comments_df[comments_df.has_hh==False].score_abs_norm, comments_df[comments_df.has_hh==True].score_abs_norm)\n",
      "print t,p\n",
      "print \n",
      "\n"
     ],
     "language": "python",
     "metadata": {},
     "outputs": [
      {
       "output_type": "stream",
       "stream": "stdout",
       "text": [
        "has body\n",
        "0.183265113268"
       ]
      },
      {
       "output_type": "stream",
       "stream": "stdout",
       "text": [
        "\n",
        "30.7697155742"
       ]
      },
      {
       "output_type": "stream",
       "stream": "stdout",
       "text": [
        " 4.40674697069e-207\n",
        "\n",
        "has exclamantion mark in title\n",
        "0.0334598801825"
       ]
      },
      {
       "output_type": "stream",
       "stream": "stdout",
       "text": [
        "\n",
        "3.76482972121 0.000166743187479\n",
        "\n",
        "has question mark in title\n",
        "0.00104170962112"
       ]
      },
      {
       "output_type": "stream",
       "stream": "stdout",
       "text": [
        "\n",
        "0.117793426185 0.906231538501\n",
        "\n",
        "does not have hh in title\n",
        "0.192325758539"
       ]
      },
      {
       "output_type": "stream",
       "stream": "stdout",
       "text": [
        "\n",
        "6.53625592285 6.33330956357e-11\n",
        "\n"
       ]
      }
     ],
     "prompt_number": 53
    },
    {
     "cell_type": "code",
     "collapsed": false,
     "input": [
      "comments_df[comments_df.score_abs>0].count()/comments_df.count()"
     ],
     "language": "python",
     "metadata": {},
     "outputs": [
      {
       "metadata": {},
       "output_type": "pyout",
       "prompt_number": 82,
       "text": [
        "author_location         0.800613\n",
        "body                    0.800613\n",
        "minus_position          0.800613\n",
        "position                0.800613\n",
        "published_time          0.800613\n",
        "score                   0.800613\n",
        "title                   0.800613\n",
        "url                     0.800613\n",
        "score_abs               0.800613\n",
        "score_norm              0.800613\n",
        "score_abs_norm          0.800613\n",
        "has_body                0.800613\n",
        "has_exclamation_mark    0.800613\n",
        "has_question_mark       0.800613\n",
        "has_hh                  0.800613\n",
        "words_count_title       0.800613\n",
        "words_count_body        0.800613\n",
        "minus_position_norm     0.800613\n",
        "dtype: float64"
       ]
      }
     ],
     "prompt_number": 82
    },
    {
     "cell_type": "code",
     "collapsed": false,
     "input": [
      "comments_df.describe()"
     ],
     "language": "python",
     "metadata": {},
     "outputs": [
      {
       "html": [
        "<div style=\"max-height:1000px;max-width:1500px;overflow:auto;\">\n",
        "<table border=\"1\" class=\"dataframe\">\n",
        "  <thead>\n",
        "    <tr style=\"text-align: right;\">\n",
        "      <th></th>\n",
        "      <th>minus_position</th>\n",
        "      <th>position</th>\n",
        "      <th>score</th>\n",
        "      <th>score_abs</th>\n",
        "      <th>score_norm</th>\n",
        "      <th>score_abs_norm</th>\n",
        "      <th>words_count_title</th>\n",
        "      <th>words_count_body</th>\n",
        "      <th>has_body</th>\n",
        "      <th>has_exclamation_mark</th>\n",
        "      <th>has_question_mark</th>\n",
        "      <th>has_hh</th>\n",
        "    </tr>\n",
        "  </thead>\n",
        "  <tbody>\n",
        "    <tr>\n",
        "      <th>count</th>\n",
        "      <td> 118248.000000</td>\n",
        "      <td> 118248.000000</td>\n",
        "      <td> 118248.000000</td>\n",
        "      <td> 118248.000000</td>\n",
        "      <td> 1.182480e+05</td>\n",
        "      <td> 1.182480e+05</td>\n",
        "      <td> 118248.000000</td>\n",
        "      <td> 118248.000000</td>\n",
        "      <td>    118248</td>\n",
        "      <td>    118248</td>\n",
        "      <td>    118248</td>\n",
        "      <td>      118248</td>\n",
        "    </tr>\n",
        "    <tr>\n",
        "      <th>mean</th>\n",
        "      <td>     95.037294</td>\n",
        "      <td>     94.034707</td>\n",
        "      <td>      8.139715</td>\n",
        "      <td>     10.877672</td>\n",
        "      <td> 1.021516e-18</td>\n",
        "      <td> 2.583835e-18</td>\n",
        "      <td>      5.890197</td>\n",
        "      <td>     16.814711</td>\n",
        "      <td> 0.6254059</td>\n",
        "      <td> 0.1205855</td>\n",
        "      <td> 0.1219978</td>\n",
        "      <td> 0.009767607</td>\n",
        "    </tr>\n",
        "    <tr>\n",
        "      <th>std</th>\n",
        "      <td>    100.118129</td>\n",
        "      <td>    100.118622</td>\n",
        "      <td>     22.124769</td>\n",
        "      <td>     20.914975</td>\n",
        "      <td> 9.952784e-01</td>\n",
        "      <td> 9.952784e-01</td>\n",
        "      <td>      3.305930</td>\n",
        "      <td>     29.338707</td>\n",
        "      <td>   0.48402</td>\n",
        "      <td> 0.3256464</td>\n",
        "      <td> 0.3272847</td>\n",
        "      <td>  0.09834776</td>\n",
        "    </tr>\n",
        "    <tr>\n",
        "      <th>min</th>\n",
        "      <td>      1.000000</td>\n",
        "      <td>      0.000000</td>\n",
        "      <td>   -225.000000</td>\n",
        "      <td>      0.000000</td>\n",
        "      <td>-8.760486e+00</td>\n",
        "      <td>-2.812186e+00</td>\n",
        "      <td>      0.000000</td>\n",
        "      <td>      0.000000</td>\n",
        "      <td>     False</td>\n",
        "      <td>     False</td>\n",
        "      <td>     False</td>\n",
        "      <td>       False</td>\n",
        "    </tr>\n",
        "    <tr>\n",
        "      <th>25%</th>\n",
        "      <td>     27.000000</td>\n",
        "      <td>     26.000000</td>\n",
        "      <td>      0.000000</td>\n",
        "      <td>      1.000000</td>\n",
        "      <td>-4.302057e-01</td>\n",
        "      <td>-5.109625e-01</td>\n",
        "      <td>      3.000000</td>\n",
        "      <td>      0.000000</td>\n",
        "      <td>         0</td>\n",
        "      <td>         0</td>\n",
        "      <td>         0</td>\n",
        "      <td>           0</td>\n",
        "    </tr>\n",
        "    <tr>\n",
        "      <th>50%</th>\n",
        "      <td>     60.000000</td>\n",
        "      <td>     59.000000</td>\n",
        "      <td>      3.000000</td>\n",
        "      <td>      4.000000</td>\n",
        "      <td>-2.011628e-01</td>\n",
        "      <td>-3.048564e-01</td>\n",
        "      <td>      6.000000</td>\n",
        "      <td>      6.000000</td>\n",
        "      <td>         1</td>\n",
        "      <td>         0</td>\n",
        "      <td>         0</td>\n",
        "      <td>           0</td>\n",
        "    </tr>\n",
        "    <tr>\n",
        "      <th>75%</th>\n",
        "      <td>    127.000000</td>\n",
        "      <td>    126.000000</td>\n",
        "      <td>     10.000000</td>\n",
        "      <td>     12.000000</td>\n",
        "      <td> 1.794498e-01</td>\n",
        "      <td> 1.087024e-01</td>\n",
        "      <td>      9.000000</td>\n",
        "      <td>     22.000000</td>\n",
        "      <td>         1</td>\n",
        "      <td>         0</td>\n",
        "      <td>         0</td>\n",
        "      <td>           0</td>\n",
        "    </tr>\n",
        "    <tr>\n",
        "      <th>max</th>\n",
        "      <td>    701.000000</td>\n",
        "      <td>    700.000000</td>\n",
        "      <td>    544.000000</td>\n",
        "      <td>    544.000000</td>\n",
        "      <td> 1.210732e+01</td>\n",
        "      <td> 1.261229e+01</td>\n",
        "      <td>     60.000000</td>\n",
        "      <td>    700.000000</td>\n",
        "      <td>      True</td>\n",
        "      <td>      True</td>\n",
        "      <td>      True</td>\n",
        "      <td>        True</td>\n",
        "    </tr>\n",
        "  </tbody>\n",
        "</table>\n",
        "</div>"
       ],
       "metadata": {},
       "output_type": "pyout",
       "prompt_number": 90,
       "text": [
        "       minus_position       position          score      score_abs  \\\n",
        "count   118248.000000  118248.000000  118248.000000  118248.000000   \n",
        "mean        95.037294      94.034707       8.139715      10.877672   \n",
        "std        100.118129     100.118622      22.124769      20.914975   \n",
        "min          1.000000       0.000000    -225.000000       0.000000   \n",
        "25%         27.000000      26.000000       0.000000       1.000000   \n",
        "50%         60.000000      59.000000       3.000000       4.000000   \n",
        "75%        127.000000     126.000000      10.000000      12.000000   \n",
        "max        701.000000     700.000000     544.000000     544.000000   \n",
        "\n",
        "         score_norm  score_abs_norm  words_count_title  words_count_body  \\\n",
        "count  1.182480e+05    1.182480e+05      118248.000000     118248.000000   \n",
        "mean   1.021516e-18    2.583835e-18           5.890197         16.814711   \n",
        "std    9.952784e-01    9.952784e-01           3.305930         29.338707   \n",
        "min   -8.760486e+00   -2.812186e+00           0.000000          0.000000   \n",
        "25%   -4.302057e-01   -5.109625e-01           3.000000          0.000000   \n",
        "50%   -2.011628e-01   -3.048564e-01           6.000000          6.000000   \n",
        "75%    1.794498e-01    1.087024e-01           9.000000         22.000000   \n",
        "max    1.210732e+01    1.261229e+01          60.000000        700.000000   \n",
        "\n",
        "        has_body has_exclamation_mark has_question_mark       has_hh  \n",
        "count     118248               118248            118248       118248  \n",
        "mean   0.6254059            0.1205855         0.1219978  0.009767607  \n",
        "std      0.48402            0.3256464         0.3272847   0.09834776  \n",
        "min        False                False             False        False  \n",
        "25%            0                    0                 0            0  \n",
        "50%            1                    0                 0            0  \n",
        "75%            1                    0                 0            0  \n",
        "max         True                 True              True         True  "
       ]
      }
     ],
     "prompt_number": 90
    },
    {
     "cell_type": "code",
     "collapsed": false,
     "input": [],
     "language": "python",
     "metadata": {},
     "outputs": []
    }
   ],
   "metadata": {}
  }
 ]
}
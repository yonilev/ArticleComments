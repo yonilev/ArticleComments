{
 "metadata": {
  "name": "",
  "signature": "sha256:911fe1dffdb97a969f09f8c133484fedfff9ed6f444ad471138e309fa9f2a201"
 },
 "nbformat": 3,
 "nbformat_minor": 0,
 "worksheets": [
  {
   "cells": [
    {
     "cell_type": "code",
     "collapsed": false,
     "input": [
      "#the data is modeled using 2 classes: Page and Comment. Each page has a list of comments. For more details, see data_handler.py\n",
      "%matplotlib inline\n",
      "\n",
      "from data_handler import Page,Comment\n",
      "import os\n",
      "import pickle\n",
      "import matplotlib.pyplot as plt\n",
      "import numpy as np\n",
      "import pandas as pd\n",
      "import matplotlib as mpl\n",
      "\n",
      "#default ploting params\n",
      "pd.options.display.mpl_style = 'default'\n",
      "mpl.rcParams['font.family'] = 'sans-serif'\n",
      "\n",
      "\n",
      "def create_pages_comments_df():\n",
      "    pages = []\n",
      "    folder = 'data/'\n",
      "    for f in os.listdir(folder):\n",
      "        filePath = folder+f\n",
      "        with open(filePath, 'r') as f:\n",
      "            pages.append(pickle.load(f))\n",
      "    pages_df = pd.DataFrame({'url':[p.url for p in pages],'title':[p.title for p in pages],'subtitle':[p.subtitle for p in pages],\n",
      "                             'body':[p.body for p in pages],'author':[p.author for p in pages],'published_time':[p.published_time for p in pages],\n",
      "                             'categories':[','.join(p.categories) for p in pages],'tags':[','.join(p.tags) for p in pages]})\n",
      "    \n",
      "    comments_df = pd.DataFrame({'url':[p.url for p in pages for c in p.comments],'author_location':[c.author_location for p in pages for c in p.comments],\n",
      "                               'author_location':[c.author_location for p in pages for c in p.comments],'date':[c.date for p in pages for c in p.comments],\n",
      "                               'title':[c.title for p in pages for c in p.comments],'body':[c.body for p in pages for c in p.comments],'score':[c.score for p in pages for c in p.comments]})\n",
      "    return pages_df,comments_df\n",
      "\n",
      "pages_df,comments_df = create_pages_comments_df()"
     ],
     "language": "python",
     "metadata": {},
     "outputs": [],
     "prompt_number": 15
    },
    {
     "cell_type": "code",
     "collapsed": false,
     "input": [
      "comments_df2.score.mean()"
     ],
     "language": "python",
     "metadata": {},
     "outputs": [
      {
       "metadata": {},
       "output_type": "pyout",
       "prompt_number": 28,
       "text": [
        "5.2840160520935866"
       ]
      }
     ],
     "prompt_number": 28
    },
    {
     "cell_type": "code",
     "collapsed": false,
     "input": [],
     "language": "python",
     "metadata": {},
     "outputs": []
    }
   ],
   "metadata": {}
  }
 ]
}